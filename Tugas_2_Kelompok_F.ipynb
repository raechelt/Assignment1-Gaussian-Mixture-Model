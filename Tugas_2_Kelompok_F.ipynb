{
  "nbformat": 4,
  "nbformat_minor": 0,
  "metadata": {
    "colab": {
      "provenance": [],
      "collapsed_sections": [],
      "include_colab_link": true
    },
    "kernelspec": {
      "name": "python3",
      "display_name": "Python 3"
    },
    "language_info": {
      "name": "python"
    }
  },
  "cells": [
    {
      "cell_type": "markdown",
      "metadata": {
        "id": "view-in-github",
        "colab_type": "text"
      },
      "source": [
        "<a href=\"https://colab.research.google.com/github/raechelt/Assignment1-Gaussian-Mixture-Model/blob/main/Tugas_2_Kelompok_F.ipynb\" target=\"_parent\"><img src=\"https://colab.research.google.com/assets/colab-badge.svg\" alt=\"Open In Colab\"/></a>"
      ]
    },
    {
      "cell_type": "markdown",
      "source": [
        "##  Tugas 2"
      ],
      "metadata": {
        "id": "cs3h3uUcEPLX"
      }
    },
    {
      "cell_type": "markdown",
      "source": [
        "Anggota Kelompok:\n",
        "- Abdul Muhaimin (2106703052)\n",
        "- Hanifah Sulasri (1906376810)\n",
        "- Jesica Michele Yulianto (2106725002)\n",
        "- Rachel Thyffani Margaretha Siahaan (2106726900)"
      ],
      "metadata": {
        "id": "kW3bDys7XxRr"
      }
    },
    {
      "cell_type": "code",
      "source": [
        "#mengimport module yang akan digunakan\n",
        "import pandas as pd\n",
        "import matplotlib.pyplot as plt \n",
        "from matplotlib import pyplot as plt\n",
        "from sklearn.cluster import KMeans\n",
        "from sklearn.mixture import GaussianMixture\n",
        "\n",
        "#mengimport data iris\n",
        "import pandas as pd\n",
        "url = 'https://raw.githubusercontent.com/argyadiva/Assignment1-Gaussian-Mixture-Model/main/Iris.csv'\n",
        "df=pd.read_csv(url)"
      ],
      "metadata": {
        "id": "_k1Mr1zHD1nh"
      },
      "execution_count": null,
      "outputs": []
    },
    {
      "cell_type": "code",
      "source": [
        "df"
      ],
      "metadata": {
        "colab": {
          "base_uri": "https://localhost:8080/",
          "height": 424
        },
        "id": "jS0G8zWkSnab",
        "outputId": "56be3563-61a4-442c-a640-84285881cdbe"
      },
      "execution_count": null,
      "outputs": [
        {
          "output_type": "execute_result",
          "data": {
            "text/plain": [
              "      Id  SepalLengthCm  SepalWidthCm  PetalLengthCm  PetalWidthCm  \\\n",
              "0      1            5.1           3.5            1.4           0.2   \n",
              "1      2            4.9           3.0            1.4           0.2   \n",
              "2      3            4.7           3.2            1.3           0.2   \n",
              "3      4            4.6           3.1            1.5           0.2   \n",
              "4      5            5.0           3.6            1.4           0.2   \n",
              "..   ...            ...           ...            ...           ...   \n",
              "145  146            6.7           3.0            5.2           2.3   \n",
              "146  147            6.3           2.5            5.0           1.9   \n",
              "147  148            6.5           3.0            5.2           2.0   \n",
              "148  149            6.2           3.4            5.4           2.3   \n",
              "149  150            5.9           3.0            5.1           1.8   \n",
              "\n",
              "            Species  \n",
              "0       Iris-setosa  \n",
              "1       Iris-setosa  \n",
              "2       Iris-setosa  \n",
              "3       Iris-setosa  \n",
              "4       Iris-setosa  \n",
              "..              ...  \n",
              "145  Iris-virginica  \n",
              "146  Iris-virginica  \n",
              "147  Iris-virginica  \n",
              "148  Iris-virginica  \n",
              "149  Iris-virginica  \n",
              "\n",
              "[150 rows x 6 columns]"
            ],
            "text/html": [
              "\n",
              "  <div id=\"df-e1d093da-6adb-4dbf-a54e-4db485ed4b69\">\n",
              "    <div class=\"colab-df-container\">\n",
              "      <div>\n",
              "<style scoped>\n",
              "    .dataframe tbody tr th:only-of-type {\n",
              "        vertical-align: middle;\n",
              "    }\n",
              "\n",
              "    .dataframe tbody tr th {\n",
              "        vertical-align: top;\n",
              "    }\n",
              "\n",
              "    .dataframe thead th {\n",
              "        text-align: right;\n",
              "    }\n",
              "</style>\n",
              "<table border=\"1\" class=\"dataframe\">\n",
              "  <thead>\n",
              "    <tr style=\"text-align: right;\">\n",
              "      <th></th>\n",
              "      <th>Id</th>\n",
              "      <th>SepalLengthCm</th>\n",
              "      <th>SepalWidthCm</th>\n",
              "      <th>PetalLengthCm</th>\n",
              "      <th>PetalWidthCm</th>\n",
              "      <th>Species</th>\n",
              "    </tr>\n",
              "  </thead>\n",
              "  <tbody>\n",
              "    <tr>\n",
              "      <th>0</th>\n",
              "      <td>1</td>\n",
              "      <td>5.1</td>\n",
              "      <td>3.5</td>\n",
              "      <td>1.4</td>\n",
              "      <td>0.2</td>\n",
              "      <td>Iris-setosa</td>\n",
              "    </tr>\n",
              "    <tr>\n",
              "      <th>1</th>\n",
              "      <td>2</td>\n",
              "      <td>4.9</td>\n",
              "      <td>3.0</td>\n",
              "      <td>1.4</td>\n",
              "      <td>0.2</td>\n",
              "      <td>Iris-setosa</td>\n",
              "    </tr>\n",
              "    <tr>\n",
              "      <th>2</th>\n",
              "      <td>3</td>\n",
              "      <td>4.7</td>\n",
              "      <td>3.2</td>\n",
              "      <td>1.3</td>\n",
              "      <td>0.2</td>\n",
              "      <td>Iris-setosa</td>\n",
              "    </tr>\n",
              "    <tr>\n",
              "      <th>3</th>\n",
              "      <td>4</td>\n",
              "      <td>4.6</td>\n",
              "      <td>3.1</td>\n",
              "      <td>1.5</td>\n",
              "      <td>0.2</td>\n",
              "      <td>Iris-setosa</td>\n",
              "    </tr>\n",
              "    <tr>\n",
              "      <th>4</th>\n",
              "      <td>5</td>\n",
              "      <td>5.0</td>\n",
              "      <td>3.6</td>\n",
              "      <td>1.4</td>\n",
              "      <td>0.2</td>\n",
              "      <td>Iris-setosa</td>\n",
              "    </tr>\n",
              "    <tr>\n",
              "      <th>...</th>\n",
              "      <td>...</td>\n",
              "      <td>...</td>\n",
              "      <td>...</td>\n",
              "      <td>...</td>\n",
              "      <td>...</td>\n",
              "      <td>...</td>\n",
              "    </tr>\n",
              "    <tr>\n",
              "      <th>145</th>\n",
              "      <td>146</td>\n",
              "      <td>6.7</td>\n",
              "      <td>3.0</td>\n",
              "      <td>5.2</td>\n",
              "      <td>2.3</td>\n",
              "      <td>Iris-virginica</td>\n",
              "    </tr>\n",
              "    <tr>\n",
              "      <th>146</th>\n",
              "      <td>147</td>\n",
              "      <td>6.3</td>\n",
              "      <td>2.5</td>\n",
              "      <td>5.0</td>\n",
              "      <td>1.9</td>\n",
              "      <td>Iris-virginica</td>\n",
              "    </tr>\n",
              "    <tr>\n",
              "      <th>147</th>\n",
              "      <td>148</td>\n",
              "      <td>6.5</td>\n",
              "      <td>3.0</td>\n",
              "      <td>5.2</td>\n",
              "      <td>2.0</td>\n",
              "      <td>Iris-virginica</td>\n",
              "    </tr>\n",
              "    <tr>\n",
              "      <th>148</th>\n",
              "      <td>149</td>\n",
              "      <td>6.2</td>\n",
              "      <td>3.4</td>\n",
              "      <td>5.4</td>\n",
              "      <td>2.3</td>\n",
              "      <td>Iris-virginica</td>\n",
              "    </tr>\n",
              "    <tr>\n",
              "      <th>149</th>\n",
              "      <td>150</td>\n",
              "      <td>5.9</td>\n",
              "      <td>3.0</td>\n",
              "      <td>5.1</td>\n",
              "      <td>1.8</td>\n",
              "      <td>Iris-virginica</td>\n",
              "    </tr>\n",
              "  </tbody>\n",
              "</table>\n",
              "<p>150 rows × 6 columns</p>\n",
              "</div>\n",
              "      <button class=\"colab-df-convert\" onclick=\"convertToInteractive('df-e1d093da-6adb-4dbf-a54e-4db485ed4b69')\"\n",
              "              title=\"Convert this dataframe to an interactive table.\"\n",
              "              style=\"display:none;\">\n",
              "        \n",
              "  <svg xmlns=\"http://www.w3.org/2000/svg\" height=\"24px\"viewBox=\"0 0 24 24\"\n",
              "       width=\"24px\">\n",
              "    <path d=\"M0 0h24v24H0V0z\" fill=\"none\"/>\n",
              "    <path d=\"M18.56 5.44l.94 2.06.94-2.06 2.06-.94-2.06-.94-.94-2.06-.94 2.06-2.06.94zm-11 1L8.5 8.5l.94-2.06 2.06-.94-2.06-.94L8.5 2.5l-.94 2.06-2.06.94zm10 10l.94 2.06.94-2.06 2.06-.94-2.06-.94-.94-2.06-.94 2.06-2.06.94z\"/><path d=\"M17.41 7.96l-1.37-1.37c-.4-.4-.92-.59-1.43-.59-.52 0-1.04.2-1.43.59L10.3 9.45l-7.72 7.72c-.78.78-.78 2.05 0 2.83L4 21.41c.39.39.9.59 1.41.59.51 0 1.02-.2 1.41-.59l7.78-7.78 2.81-2.81c.8-.78.8-2.07 0-2.86zM5.41 20L4 18.59l7.72-7.72 1.47 1.35L5.41 20z\"/>\n",
              "  </svg>\n",
              "      </button>\n",
              "      \n",
              "  <style>\n",
              "    .colab-df-container {\n",
              "      display:flex;\n",
              "      flex-wrap:wrap;\n",
              "      gap: 12px;\n",
              "    }\n",
              "\n",
              "    .colab-df-convert {\n",
              "      background-color: #E8F0FE;\n",
              "      border: none;\n",
              "      border-radius: 50%;\n",
              "      cursor: pointer;\n",
              "      display: none;\n",
              "      fill: #1967D2;\n",
              "      height: 32px;\n",
              "      padding: 0 0 0 0;\n",
              "      width: 32px;\n",
              "    }\n",
              "\n",
              "    .colab-df-convert:hover {\n",
              "      background-color: #E2EBFA;\n",
              "      box-shadow: 0px 1px 2px rgba(60, 64, 67, 0.3), 0px 1px 3px 1px rgba(60, 64, 67, 0.15);\n",
              "      fill: #174EA6;\n",
              "    }\n",
              "\n",
              "    [theme=dark] .colab-df-convert {\n",
              "      background-color: #3B4455;\n",
              "      fill: #D2E3FC;\n",
              "    }\n",
              "\n",
              "    [theme=dark] .colab-df-convert:hover {\n",
              "      background-color: #434B5C;\n",
              "      box-shadow: 0px 1px 3px 1px rgba(0, 0, 0, 0.15);\n",
              "      filter: drop-shadow(0px 1px 2px rgba(0, 0, 0, 0.3));\n",
              "      fill: #FFFFFF;\n",
              "    }\n",
              "  </style>\n",
              "\n",
              "      <script>\n",
              "        const buttonEl =\n",
              "          document.querySelector('#df-e1d093da-6adb-4dbf-a54e-4db485ed4b69 button.colab-df-convert');\n",
              "        buttonEl.style.display =\n",
              "          google.colab.kernel.accessAllowed ? 'block' : 'none';\n",
              "\n",
              "        async function convertToInteractive(key) {\n",
              "          const element = document.querySelector('#df-e1d093da-6adb-4dbf-a54e-4db485ed4b69');\n",
              "          const dataTable =\n",
              "            await google.colab.kernel.invokeFunction('convertToInteractive',\n",
              "                                                     [key], {});\n",
              "          if (!dataTable) return;\n",
              "\n",
              "          const docLinkHtml = 'Like what you see? Visit the ' +\n",
              "            '<a target=\"_blank\" href=https://colab.research.google.com/notebooks/data_table.ipynb>data table notebook</a>'\n",
              "            + ' to learn more about interactive tables.';\n",
              "          element.innerHTML = '';\n",
              "          dataTable['output_type'] = 'display_data';\n",
              "          await google.colab.output.renderOutput(dataTable, element);\n",
              "          const docLink = document.createElement('div');\n",
              "          docLink.innerHTML = docLinkHtml;\n",
              "          element.appendChild(docLink);\n",
              "        }\n",
              "      </script>\n",
              "    </div>\n",
              "  </div>\n",
              "  "
            ]
          },
          "metadata": {},
          "execution_count": 83
        }
      ]
    },
    {
      "cell_type": "markdown",
      "source": [
        "**PETAL**"
      ],
      "metadata": {
        "id": "X-h1qfEzVbU7"
      }
    },
    {
      "cell_type": "code",
      "source": [
        "data2 = df[['PetalLengthCm','PetalWidthCm']]\n",
        "print(data2)"
      ],
      "metadata": {
        "id": "XrpmAx5-NMk-",
        "colab": {
          "base_uri": "https://localhost:8080/"
        },
        "outputId": "c3e9d09e-1cee-4a61-8f9f-db2000177e07"
      },
      "execution_count": null,
      "outputs": [
        {
          "output_type": "stream",
          "name": "stdout",
          "text": [
            "     PetalLengthCm  PetalWidthCm\n",
            "0              1.4           0.2\n",
            "1              1.4           0.2\n",
            "2              1.3           0.2\n",
            "3              1.5           0.2\n",
            "4              1.4           0.2\n",
            "..             ...           ...\n",
            "145            5.2           2.3\n",
            "146            5.0           1.9\n",
            "147            5.2           2.0\n",
            "148            5.4           2.3\n",
            "149            5.1           1.8\n",
            "\n",
            "[150 rows x 2 columns]\n"
          ]
        }
      ]
    },
    {
      "cell_type": "markdown",
      "source": [
        "1. Pendekatan K-Means Clustering"
      ],
      "metadata": {
        "id": "i52yvJa7XGFw"
      }
    },
    {
      "cell_type": "code",
      "source": [
        "#training k-means model\n",
        "kmeans = KMeans(n_clusters = 4)\n",
        "kmeans.fit(data2)"
      ],
      "metadata": {
        "id": "KGecwZjoNP-j",
        "colab": {
          "base_uri": "https://localhost:8080/"
        },
        "outputId": "be6adc06-6afc-41f0-db58-57cbc2e5f145"
      },
      "execution_count": null,
      "outputs": [
        {
          "output_type": "execute_result",
          "data": {
            "text/plain": [
              "KMeans(n_clusters=4)"
            ]
          },
          "metadata": {},
          "execution_count": 85
        }
      ]
    },
    {
      "cell_type": "code",
      "source": [
        "#prediction from k-means\n",
        "pred = kmeans.predict(data2)\n",
        "frame = pd.DataFrame(data2)\n",
        "frame['cluster'] = pred\n",
        "frame.columns = ['PetalLengthCm','PetalWidthCm','cluster']"
      ],
      "metadata": {
        "id": "z5O1GtO4NUiP"
      },
      "execution_count": null,
      "outputs": []
    },
    {
      "cell_type": "code",
      "source": [
        "#plotting results\n",
        "color = ['blue','green','red', 'black']\n",
        "for k in range(0,4):\n",
        "    data2_1= frame[frame[\"cluster\"]==k]\n",
        "    plt.scatter(data2_1[\"PetalLengthCm\"], data2_1[\"PetalWidthCm\"],c=color[k])\n",
        "plt.show()"
      ],
      "metadata": {
        "id": "Uo-upZVyNXdS",
        "colab": {
          "base_uri": "https://localhost:8080/",
          "height": 265
        },
        "outputId": "86bd2793-e5d3-4b5f-e881-bb810262de3e"
      },
      "execution_count": null,
      "outputs": [
        {
          "output_type": "display_data",
          "data": {
            "text/plain": [
              "<Figure size 432x288 with 1 Axes>"
            ],
            "image/png": "[encoded data removed]"
          },
          "metadata": {
            "needs_background": "light"
          }
        }
      ]
    },
    {
      "cell_type": "markdown",
      "source": [
        "2. Pendekatan GMM"
      ],
      "metadata": {
        "id": "Ce4zI9yHNd3a"
      }
    },
    {
      "cell_type": "code",
      "source": [
        "#training Gaussian model (normal distribution)\n",
        "gmm = GaussianMixture(n_components = 4)\n",
        "gmm.fit(data2)"
      ],
      "metadata": {
        "id": "xQTZ0eKQNeMG",
        "colab": {
          "base_uri": "https://localhost:8080/"
        },
        "outputId": "929f57cc-ad71-42eb-988e-a3e529ca2a5c"
      },
      "execution_count": null,
      "outputs": [
        {
          "output_type": "execute_result",
          "data": {
            "text/plain": [
              "GaussianMixture(n_components=4)"
            ]
          },
          "metadata": {},
          "execution_count": 89
        }
      ]
    },
    {
      "cell_type": "code",
      "source": [
        "#prediction from gmm\n",
        "labels = gmm.predict(data2)\n",
        "frame = pd.DataFrame(data2)\n",
        "frame['cluster']= labels\n",
        "frame.columns = ['PetalLengthCm','PetalWidthCm','cluster']"
      ],
      "metadata": {
        "id": "SfrUqmqWNjXt"
      },
      "execution_count": null,
      "outputs": []
    },
    {
      "cell_type": "code",
      "source": [
        "color = ['blue','green','red', 'black']\n",
        "for k in range(0,4):\n",
        "    data2_2 = frame[frame[\"cluster\"]==k]\n",
        "    plt.scatter(data2_2[\"PetalLengthCm\"], data2_2[\"PetalWidthCm\"],c=color[k])\n",
        "plt.show()"
      ],
      "metadata": {
        "id": "sXT3IyvtNj_y",
        "colab": {
          "base_uri": "https://localhost:8080/",
          "height": 265
        },
        "outputId": "737b92f7-e480-42c3-e00b-e34cb3e1d036"
      },
      "execution_count": null,
      "outputs": [
        {
          "output_type": "display_data",
          "data": {
            "text/plain": [
              "<Figure size 432x288 with 1 Axes>"
            ],
            "image/png": "[encoded data removed]"
          },
          "metadata": {
            "needs_background": "light"
          }
        }
      ]
    },
    {
      "cell_type": "markdown",
      "source": [
        "3. Pendekatan GMM EM"
      ],
      "metadata": {
        "id": "ji2a1chMWdTw"
      }
    },
    {
      "cell_type": "code",
      "source": [
        "#Contoh Pendekatan GMM dengan EM\n",
        "# Contoh Mencoba GMM dengan jenis covarians yang berbeda pada data 2d\n",
        "estimators = dict((cov_type, GaussianMixture(n_components=3,\n",
        "                   covariance_type=cov_type, max_iter=20, random_state=0))\n",
        "                  for cov_type in ['spherical', 'diag', 'tied', 'full'])\n",
        "for (name,estimator) in estimators.items():\n",
        "    estimator.fit(df.data[:,2:4]) ## fits mixture model menggunakan EM"
      ],
      "metadata": {
        "id": "OT6mRl5JbQxs"
      },
      "execution_count": null,
      "outputs": []
    },
    {
      "cell_type": "code",
      "source": [
        "#Contoh Code Visualisasi GMM dengan EM dan tipe covariansi yang berbeda\n",
        "for (name,gmm) in estimators.items():\n",
        "    for n, color in enumerate(colors):\n",
        "        data = df.data[iris.target == n]\n",
        "        plt.scatter(data[:, 2], data[:, 3], marker=markers[n])\n",
        "        if gmm.covariance_type == 'full':\n",
        "            cov = gmm.covariances_[n]\n",
        "        elif gmm.covariance_type == 'tied':\n",
        "            cov = gmm.covariances_\n",
        "        elif gmm.covariance_type == 'diag':\n",
        "            cov = np.diag(gmm.covariances_[n])\n",
        "        elif gmm.covariance_type == 'spherical':\n",
        "            cov = np.eye(gmm.means_.shape[1]) * gmm.covariances_[n]\n",
        "        #print(cov)\n",
        "        pos = estimator.means_[n]\n",
        "        #print(pos)\n",
        "        plot_cov_ellipse(cov,pos,col=color)\n",
        "    plt.title(name)\n",
        "    plt.show()"
      ],
      "metadata": {
        "id": "ghRF0ElTbRJ-"
      },
      "execution_count": null,
      "outputs": []
    },
    {
      "cell_type": "markdown",
      "source": [
        "**SEPAL**"
      ],
      "metadata": {
        "id": "fMsxylxgOqaA"
      }
    },
    {
      "cell_type": "code",
      "source": [
        "data1=df[[\"SepalLengthCm\",\"SepalWidthCm\"]]\n",
        "print (data1)"
      ],
      "metadata": {
        "colab": {
          "base_uri": "https://localhost:8080/"
        },
        "id": "wEfQE-kgJlO4",
        "outputId": "0d92fa42-ee1a-483c-d972-096b360d6521"
      },
      "execution_count": null,
      "outputs": [
        {
          "output_type": "stream",
          "name": "stdout",
          "text": [
            "     SepalLengthCm  SepalWidthCm\n",
            "0              5.1           3.5\n",
            "1              4.9           3.0\n",
            "2              4.7           3.2\n",
            "3              4.6           3.1\n",
            "4              5.0           3.6\n",
            "..             ...           ...\n",
            "145            6.7           3.0\n",
            "146            6.3           2.5\n",
            "147            6.5           3.0\n",
            "148            6.2           3.4\n",
            "149            5.9           3.0\n",
            "\n",
            "[150 rows x 2 columns]\n"
          ]
        }
      ]
    },
    {
      "cell_type": "markdown",
      "source": [
        "1. Pendekatan K-Means Clustering"
      ],
      "metadata": {
        "id": "Ru-yht-XMeH3"
      }
    },
    {
      "cell_type": "code",
      "source": [
        "# training k means model\n",
        "kmeans = KMeans(n_clusters=4)\n",
        "kmeans.fit(data1)"
      ],
      "metadata": {
        "id": "egsdEe-aFQTH",
        "colab": {
          "base_uri": "https://localhost:8080/"
        },
        "outputId": "29e92aba-ec4f-4eb3-c688-2fa91dbd4a66"
      },
      "execution_count": null,
      "outputs": [
        {
          "output_type": "execute_result",
          "data": {
            "text/plain": [
              "KMeans(n_clusters=4)"
            ]
          },
          "metadata": {},
          "execution_count": 93
        }
      ]
    },
    {
      "cell_type": "code",
      "source": [
        "# prediction from k means\n",
        "pred = kmeans.predict(data1)\n",
        "frame = pd.DataFrame(data1)\n",
        "frame['cluster'] = pred\n",
        "frame.columns = ['SepalLengthCm','SepalWidthCm','cluster']"
      ],
      "metadata": {
        "id": "lBpk_pONKOQw"
      },
      "execution_count": null,
      "outputs": []
    },
    {
      "cell_type": "code",
      "source": [
        "# plotting results\n",
        "color=['red','yellow',]\n",
        "for k in range(0,4):\n",
        "  data1 = frame[frame[\"cluster\"]==k]\n",
        "  plt.scatter(data1[\"SepalLengthCm\"], data1[\"SepalWidthCm\"], c=color[k])\n",
        "\n",
        "plt.show()"
      ],
      "metadata": {
        "id": "LLqqdq_yKn_O",
        "colab": {
          "base_uri": "https://localhost:8080/",
          "height": 483
        },
        "outputId": "a7902ccb-0800-4c7e-b70d-1224f571c112"
      },
      "execution_count": null,
      "outputs": [
        {
          "output_type": "error",
          "ename": "IndexError",
          "evalue": "ignored",
          "traceback": [
            "\u001b[0;31m---------------------------------------------------------------------------\u001b[0m",
            "\u001b[0;31mIndexError\u001b[0m                                Traceback (most recent call last)",
            "\u001b[0;32m<ipython-input-95-8bda4661c559>\u001b[0m in \u001b[0;36m<module>\u001b[0;34m\u001b[0m\n\u001b[1;32m      3\u001b[0m \u001b[0;32mfor\u001b[0m \u001b[0mk\u001b[0m \u001b[0;32min\u001b[0m \u001b[0mrange\u001b[0m\u001b[0;34m(\u001b[0m\u001b[0;36m0\u001b[0m\u001b[0;34m,\u001b[0m\u001b[0;36m4\u001b[0m\u001b[0;34m)\u001b[0m\u001b[0;34m:\u001b[0m\u001b[0;34m\u001b[0m\u001b[0;34m\u001b[0m\u001b[0m\n\u001b[1;32m      4\u001b[0m   \u001b[0mdata1\u001b[0m \u001b[0;34m=\u001b[0m \u001b[0mframe\u001b[0m\u001b[0;34m[\u001b[0m\u001b[0mframe\u001b[0m\u001b[0;34m[\u001b[0m\u001b[0;34m\"cluster\"\u001b[0m\u001b[0;34m]\u001b[0m\u001b[0;34m==\u001b[0m\u001b[0mk\u001b[0m\u001b[0;34m]\u001b[0m\u001b[0;34m\u001b[0m\u001b[0;34m\u001b[0m\u001b[0m\n\u001b[0;32m----> 5\u001b[0;31m   \u001b[0mplt\u001b[0m\u001b[0;34m.\u001b[0m\u001b[0mscatter\u001b[0m\u001b[0;34m(\u001b[0m\u001b[0mdata1\u001b[0m\u001b[0;34m[\u001b[0m\u001b[0;34m\"SepalLengthCm\"\u001b[0m\u001b[0;34m]\u001b[0m\u001b[0;34m,\u001b[0m \u001b[0mdata1\u001b[0m\u001b[0;34m[\u001b[0m\u001b[0;34m\"SepalWidthCm\"\u001b[0m\u001b[0;34m]\u001b[0m\u001b[0;34m,\u001b[0m \u001b[0mc\u001b[0m\u001b[0;34m=\u001b[0m\u001b[0mcolor\u001b[0m\u001b[0;34m[\u001b[0m\u001b[0mk\u001b[0m\u001b[0;34m]\u001b[0m\u001b[0;34m)\u001b[0m\u001b[0;34m\u001b[0m\u001b[0;34m\u001b[0m\u001b[0m\n\u001b[0m\u001b[1;32m      6\u001b[0m \u001b[0;34m\u001b[0m\u001b[0m\n\u001b[1;32m      7\u001b[0m \u001b[0mplt\u001b[0m\u001b[0;34m.\u001b[0m\u001b[0mshow\u001b[0m\u001b[0;34m(\u001b[0m\u001b[0;34m)\u001b[0m\u001b[0;34m\u001b[0m\u001b[0;34m\u001b[0m\u001b[0m\n",
            "\u001b[0;31mIndexError\u001b[0m: list index out of range"
          ]
        },
        {
          "output_type": "display_data",
          "data": {
            "text/plain": [
              "<Figure size 432x288 with 1 Axes>"
            ],
            "image/png": "[encoded data removed]"
          },
          "metadata": {
            "needs_background": "light"
          }
        }
      ]
    },
    {
      "cell_type": "markdown",
      "source": [
        "2. Pendekatan GMM"
      ],
      "metadata": {
        "id": "gR2Wj_sbXUWb"
      }
    },
    {
      "cell_type": "code",
      "source": [
        "#tarining gaussian mixture model\n",
        "from sklearn.mixture import GaussianMixture\n",
        "gmm = GaussianMixture(n_components=4)\n",
        "gmm.fit(data1)"
      ],
      "metadata": {
        "id": "RwBVw2ZvMnac"
      },
      "execution_count": null,
      "outputs": []
    },
    {
      "cell_type": "code",
      "source": [
        "#predictions from gmm\n",
        "labels = gmm.predict(data1)\n",
        "frame = pd.DataFrame(data1)\n",
        "frame['cluster'] = labels\n",
        "frame.columns = ['SepalLengthCm', 'SepalWidthCm', 'cluster']"
      ],
      "metadata": {
        "id": "p_jMaGp1OFcc"
      },
      "execution_count": null,
      "outputs": []
    },
    {
      "cell_type": "code",
      "source": [
        "# plotting results\n",
        "color=['red','yellow','black','blue']\n",
        "for k in range(0,4):\n",
        "  data1 = frame[frame[\"cluster\"]==k]\n",
        "  plt.scatter(data1[\"SepalLengthCm\"], data1[\"SepalWidthCm\"], c=color[k])\n",
        "\n",
        "plt.show()"
      ],
      "metadata": {
        "id": "iFte844fOF1j"
      },
      "execution_count": null,
      "outputs": []
    },
    {
      "cell_type": "markdown",
      "source": [
        "3. Pendekatan GMM EM"
      ],
      "metadata": {
        "id": "sMFmQymNXXcp"
      }
    },
    {
      "cell_type": "code",
      "source": [
        "#Contoh Pendekatan GMM dengan EM\n",
        "# Contoh Mencoba GMM dengan jenis covarians yang berbeda pada data 2d\n",
        "estimators = dict((cov_type, GaussianMixture(n_components=3,\n",
        "                   covariance_type=cov_type, max_iter=20, random_state=0))\n",
        "                  for cov_type in ['spherical', 'diag', 'tied', 'full'])\n",
        "for (name,estimator) in estimators.items():\n",
        "    estimator.fit(df.data[:,2:4]) ## fits mixture model menggunakan EM"
      ],
      "metadata": {
        "id": "mSuN4hcQEOps"
      },
      "execution_count": null,
      "outputs": []
    },
    {
      "cell_type": "code",
      "source": [
        "#Contoh Code Visualisasi GMM dengan EM dan tipe covariansi yang berbeda\n",
        "for (name,gmm) in estimators.items():\n",
        "    for n, color in enumerate(colors):\n",
        "        data = df.data[iris.target == n]\n",
        "        plt.scatter(data[:, 2], data[:, 3], marker=markers[n])\n",
        "        if gmm.covariance_type == 'full':\n",
        "            cov = gmm.covariances_[n]\n",
        "        elif gmm.covariance_type == 'tied':\n",
        "            cov = gmm.covariances_\n",
        "        elif gmm.covariance_type == 'diag':\n",
        "            cov = np.diag(gmm.covariances_[n])\n",
        "        elif gmm.covariance_type == 'spherical':\n",
        "            cov = np.eye(gmm.means_.shape[1]) * gmm.covariances_[n]\n",
        "        #print(cov)\n",
        "        pos = estimator.means_[n]\n",
        "        #print(pos)\n",
        "        plot_cov_ellipse(cov,pos,col=color)\n",
        "    plt.title(name)\n",
        "    plt.show()"
      ],
      "metadata": {
        "id": "QYFtjNUNE5zW",
        "colab": {
          "base_uri": "https://localhost:8080/",
          "height": 235
        },
        "outputId": "e59a59bd-86d6-4be0-c059-0979cbeb6086"
      },
      "execution_count": null,
      "outputs": [
        {
          "output_type": "error",
          "ename": "NameError",
          "evalue": "ignored",
          "traceback": [
            "\u001b[0;31m---------------------------------------------------------------------------\u001b[0m",
            "\u001b[0;31mNameError\u001b[0m                                 Traceback (most recent call last)",
            "\u001b[0;32m<ipython-input-56-91f4e4502856>\u001b[0m in \u001b[0;36m<module>\u001b[0;34m\u001b[0m\n\u001b[1;32m      1\u001b[0m \u001b[0;31m#Contoh Code Visualisasi GMM dengan EM dan tipe covariansi yang berbeda\u001b[0m\u001b[0;34m\u001b[0m\u001b[0;34m\u001b[0m\u001b[0;34m\u001b[0m\u001b[0m\n\u001b[1;32m      2\u001b[0m \u001b[0;32mfor\u001b[0m \u001b[0;34m(\u001b[0m\u001b[0mname\u001b[0m\u001b[0;34m,\u001b[0m\u001b[0mgmm\u001b[0m\u001b[0;34m)\u001b[0m \u001b[0;32min\u001b[0m \u001b[0mestimators\u001b[0m\u001b[0;34m.\u001b[0m\u001b[0mitems\u001b[0m\u001b[0;34m(\u001b[0m\u001b[0;34m)\u001b[0m\u001b[0;34m:\u001b[0m\u001b[0;34m\u001b[0m\u001b[0;34m\u001b[0m\u001b[0m\n\u001b[0;32m----> 3\u001b[0;31m     \u001b[0;32mfor\u001b[0m \u001b[0mn\u001b[0m\u001b[0;34m,\u001b[0m \u001b[0mcolor\u001b[0m \u001b[0;32min\u001b[0m \u001b[0menumerate\u001b[0m\u001b[0;34m(\u001b[0m\u001b[0mcolors\u001b[0m\u001b[0;34m)\u001b[0m\u001b[0;34m:\u001b[0m\u001b[0;34m\u001b[0m\u001b[0;34m\u001b[0m\u001b[0m\n\u001b[0m\u001b[1;32m      4\u001b[0m         \u001b[0mdata\u001b[0m \u001b[0;34m=\u001b[0m \u001b[0mdf\u001b[0m\u001b[0;34m.\u001b[0m\u001b[0mdata\u001b[0m\u001b[0;34m[\u001b[0m\u001b[0miris\u001b[0m\u001b[0;34m.\u001b[0m\u001b[0mtarget\u001b[0m \u001b[0;34m==\u001b[0m \u001b[0mn\u001b[0m\u001b[0;34m]\u001b[0m\u001b[0;34m\u001b[0m\u001b[0;34m\u001b[0m\u001b[0m\n\u001b[1;32m      5\u001b[0m         \u001b[0mplt\u001b[0m\u001b[0;34m.\u001b[0m\u001b[0mscatter\u001b[0m\u001b[0;34m(\u001b[0m\u001b[0mdata\u001b[0m\u001b[0;34m[\u001b[0m\u001b[0;34m:\u001b[0m\u001b[0;34m,\u001b[0m \u001b[0;36m2\u001b[0m\u001b[0;34m]\u001b[0m\u001b[0;34m,\u001b[0m \u001b[0mdata\u001b[0m\u001b[0;34m[\u001b[0m\u001b[0;34m:\u001b[0m\u001b[0;34m,\u001b[0m \u001b[0;36m3\u001b[0m\u001b[0;34m]\u001b[0m\u001b[0;34m,\u001b[0m \u001b[0mmarker\u001b[0m\u001b[0;34m=\u001b[0m\u001b[0mmarkers\u001b[0m\u001b[0;34m[\u001b[0m\u001b[0mn\u001b[0m\u001b[0;34m]\u001b[0m\u001b[0;34m)\u001b[0m\u001b[0;34m\u001b[0m\u001b[0;34m\u001b[0m\u001b[0m\n",
            "\u001b[0;31mNameError\u001b[0m: name 'colors' is not defined"
          ]
        }
      ]
    },
    {
      "cell_type": "markdown",
      "source": [
        "K-Means Clustering adalah suatu metode penganalisaan data atau metode Data Mining yang melakukan proses pemodelan unssupervised learning dan menggunakan metode yang mengelompokan data berbagai partisi. Kelemahan utama dari algoritma K-Means adalah penggunaan nilai rata-rata untuk pusat cluster. Terkadang, perhitungan ini bukan cara terbaik untuk menentukan cluster. Cluster tidak bisa menangani cluster dengan radius berbeda yang berpusat pada rata-rata yang sama. K-Means tidak bisa menangani masalah ini karena nilai rata-rata dari cluster sangat berdekatan. Oleh karena itu, kita bisa menggunakan algoritma Expectation“Maximization (EM) Clustering using Gaussian Mixture Models (GMM) untuk menyelesaikan permasalahan tersebut. Algoritma ini memiliki dua kelebihan utama, pertama GMM jauh lebih fleksibel dalam hal kovarians. Keuda, GMM menggunakan probabilitas sehingga dapat memiliki beberapa cluster per titik data. Jadi jika sebuah titik data berada di tengah-tengah dua cluster yang saling tumpang tindih, kita dapat dengan mudah mengidentifikasi kelasnya dengan membandingkan persentasenya.\n",
        "\n",
        "Dari plot di atas, dapat ditarik kesimpulan bahwa penggunaan k-means dan gmm pada petal memberikan hasil yang circular pada setiap cluster, dan penggunaan k-means dan gmm pada sepal memberikan hasil yang tersebar pada clusternya sehingga bisa dibilang sepal memiliki variansi yang besar."
      ],
      "metadata": {
        "id": "SeDtSnvRbwV6"
      }
    }
  ]
}